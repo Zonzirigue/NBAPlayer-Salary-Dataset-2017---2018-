{
 "cells": [
  {
   "cell_type": "markdown",
   "id": "70e7dcdf",
   "metadata": {},
   "source": [
    "# Feature Engineering: Comment Détecter les Valeurs Aberrantes (Outliers)?"
   ]
  },
  {
   "cell_type": "markdown",
   "id": "70a1e649",
   "metadata": {},
   "source": [
    "## importer les packages"
   ]
  },
  {
   "cell_type": "code",
   "execution_count": 21,
   "id": "5f0ffb66",
   "metadata": {},
   "outputs": [],
   "source": [
    "\n",
    "import numpy as np\n",
    "import pandas as pd\n",
    "import seaborn as sns\n",
    "import matplotlib.pyplot as plt"
   ]
  },
  {
   "cell_type": "markdown",
   "id": "83db1e8e",
   "metadata": {},
   "source": [
    "## importer la base de données"
   ]
  },
  {
   "cell_type": "code",
   "execution_count": 4,
   "id": "ba95a263",
   "metadata": {},
   "outputs": [],
   "source": [
    "df = pd.read_csv('data/NBA_season1718_salary.csv')"
   ]
  },
  {
   "cell_type": "markdown",
   "id": "1bb9d27a",
   "metadata": {},
   "source": [
    "## Decouverte de la base de données"
   ]
  },
  {
   "cell_type": "code",
   "execution_count": 15,
   "id": "88d697ba",
   "metadata": {},
   "outputs": [
    {
     "data": {
      "text/html": [
       "<div>\n",
       "<style scoped>\n",
       "    .dataframe tbody tr th:only-of-type {\n",
       "        vertical-align: middle;\n",
       "    }\n",
       "\n",
       "    .dataframe tbody tr th {\n",
       "        vertical-align: top;\n",
       "    }\n",
       "\n",
       "    .dataframe thead th {\n",
       "        text-align: right;\n",
       "    }\n",
       "</style>\n",
       "<table border=\"1\" class=\"dataframe\">\n",
       "  <thead>\n",
       "    <tr style=\"text-align: right;\">\n",
       "      <th></th>\n",
       "      <th>Unnamed: 0</th>\n",
       "      <th>Player</th>\n",
       "      <th>Tm</th>\n",
       "      <th>season17_18</th>\n",
       "    </tr>\n",
       "  </thead>\n",
       "  <tbody>\n",
       "    <tr>\n",
       "      <th>0</th>\n",
       "      <td>1</td>\n",
       "      <td>Stephen Curry</td>\n",
       "      <td>GSW</td>\n",
       "      <td>34682550.0</td>\n",
       "    </tr>\n",
       "    <tr>\n",
       "      <th>1</th>\n",
       "      <td>2</td>\n",
       "      <td>LeBron James</td>\n",
       "      <td>CLE</td>\n",
       "      <td>33285709.0</td>\n",
       "    </tr>\n",
       "    <tr>\n",
       "      <th>2</th>\n",
       "      <td>3</td>\n",
       "      <td>Paul Millsap</td>\n",
       "      <td>DEN</td>\n",
       "      <td>31269231.0</td>\n",
       "    </tr>\n",
       "    <tr>\n",
       "      <th>3</th>\n",
       "      <td>4</td>\n",
       "      <td>Gordon Hayward</td>\n",
       "      <td>BOS</td>\n",
       "      <td>29727900.0</td>\n",
       "    </tr>\n",
       "    <tr>\n",
       "      <th>4</th>\n",
       "      <td>5</td>\n",
       "      <td>Blake Griffin</td>\n",
       "      <td>DET</td>\n",
       "      <td>29512900.0</td>\n",
       "    </tr>\n",
       "    <tr>\n",
       "      <th>5</th>\n",
       "      <td>6</td>\n",
       "      <td>Kyle Lowry</td>\n",
       "      <td>TOR</td>\n",
       "      <td>28703704.0</td>\n",
       "    </tr>\n",
       "    <tr>\n",
       "      <th>6</th>\n",
       "      <td>7</td>\n",
       "      <td>Russell Westbrook</td>\n",
       "      <td>OKC</td>\n",
       "      <td>28530608.0</td>\n",
       "    </tr>\n",
       "    <tr>\n",
       "      <th>7</th>\n",
       "      <td>8</td>\n",
       "      <td>Mike Conley</td>\n",
       "      <td>MEM</td>\n",
       "      <td>28530608.0</td>\n",
       "    </tr>\n",
       "    <tr>\n",
       "      <th>8</th>\n",
       "      <td>9</td>\n",
       "      <td>James Harden</td>\n",
       "      <td>HOU</td>\n",
       "      <td>28299399.0</td>\n",
       "    </tr>\n",
       "    <tr>\n",
       "      <th>9</th>\n",
       "      <td>10</td>\n",
       "      <td>DeMar DeRozan</td>\n",
       "      <td>TOR</td>\n",
       "      <td>27739975.0</td>\n",
       "    </tr>\n",
       "  </tbody>\n",
       "</table>\n",
       "</div>"
      ],
      "text/plain": [
       "   Unnamed: 0             Player   Tm  season17_18\n",
       "0           1      Stephen Curry  GSW   34682550.0\n",
       "1           2       LeBron James  CLE   33285709.0\n",
       "2           3       Paul Millsap  DEN   31269231.0\n",
       "3           4     Gordon Hayward  BOS   29727900.0\n",
       "4           5      Blake Griffin  DET   29512900.0\n",
       "5           6         Kyle Lowry  TOR   28703704.0\n",
       "6           7  Russell Westbrook  OKC   28530608.0\n",
       "7           8        Mike Conley  MEM   28530608.0\n",
       "8           9       James Harden  HOU   28299399.0\n",
       "9          10      DeMar DeRozan  TOR   27739975.0"
      ]
     },
     "execution_count": 15,
     "metadata": {},
     "output_type": "execute_result"
    }
   ],
   "source": [
    "#les 10 premieres lignes\n",
    "df.head(10)"
   ]
  },
  {
   "cell_type": "code",
   "execution_count": 16,
   "id": "d5464e01",
   "metadata": {},
   "outputs": [
    {
     "data": {
      "text/html": [
       "<div>\n",
       "<style scoped>\n",
       "    .dataframe tbody tr th:only-of-type {\n",
       "        vertical-align: middle;\n",
       "    }\n",
       "\n",
       "    .dataframe tbody tr th {\n",
       "        vertical-align: top;\n",
       "    }\n",
       "\n",
       "    .dataframe thead th {\n",
       "        text-align: right;\n",
       "    }\n",
       "</style>\n",
       "<table border=\"1\" class=\"dataframe\">\n",
       "  <thead>\n",
       "    <tr style=\"text-align: right;\">\n",
       "      <th></th>\n",
       "      <th>Unnamed: 0</th>\n",
       "      <th>Player</th>\n",
       "      <th>Tm</th>\n",
       "      <th>season17_18</th>\n",
       "    </tr>\n",
       "  </thead>\n",
       "  <tbody>\n",
       "    <tr>\n",
       "      <th>563</th>\n",
       "      <td>564</td>\n",
       "      <td>Trey McKinney-Jones</td>\n",
       "      <td>IND</td>\n",
       "      <td>46080.0</td>\n",
       "    </tr>\n",
       "    <tr>\n",
       "      <th>564</th>\n",
       "      <td>565</td>\n",
       "      <td>Jameel Warney</td>\n",
       "      <td>DAL</td>\n",
       "      <td>46080.0</td>\n",
       "    </tr>\n",
       "    <tr>\n",
       "      <th>565</th>\n",
       "      <td>566</td>\n",
       "      <td>Marcus Thornton</td>\n",
       "      <td>CLE</td>\n",
       "      <td>46080.0</td>\n",
       "    </tr>\n",
       "    <tr>\n",
       "      <th>566</th>\n",
       "      <td>567</td>\n",
       "      <td>DeAndre Liggins</td>\n",
       "      <td>ATL</td>\n",
       "      <td>26773.0</td>\n",
       "    </tr>\n",
       "    <tr>\n",
       "      <th>567</th>\n",
       "      <td>568</td>\n",
       "      <td>Axel Toupane</td>\n",
       "      <td>NOP</td>\n",
       "      <td>25000.0</td>\n",
       "    </tr>\n",
       "    <tr>\n",
       "      <th>568</th>\n",
       "      <td>569</td>\n",
       "      <td>Quinn Cook</td>\n",
       "      <td>NOP</td>\n",
       "      <td>25000.0</td>\n",
       "    </tr>\n",
       "    <tr>\n",
       "      <th>569</th>\n",
       "      <td>570</td>\n",
       "      <td>Chris Johnson</td>\n",
       "      <td>HOU</td>\n",
       "      <td>25000.0</td>\n",
       "    </tr>\n",
       "    <tr>\n",
       "      <th>570</th>\n",
       "      <td>571</td>\n",
       "      <td>Beno Udrih</td>\n",
       "      <td>DET</td>\n",
       "      <td>25000.0</td>\n",
       "    </tr>\n",
       "    <tr>\n",
       "      <th>571</th>\n",
       "      <td>572</td>\n",
       "      <td>Joel Bolomboy</td>\n",
       "      <td>MIL</td>\n",
       "      <td>22248.0</td>\n",
       "    </tr>\n",
       "    <tr>\n",
       "      <th>572</th>\n",
       "      <td>573</td>\n",
       "      <td>Jarell Eddie</td>\n",
       "      <td>CHI</td>\n",
       "      <td>17224.0</td>\n",
       "    </tr>\n",
       "  </tbody>\n",
       "</table>\n",
       "</div>"
      ],
      "text/plain": [
       "     Unnamed: 0               Player   Tm  season17_18\n",
       "563         564  Trey McKinney-Jones  IND      46080.0\n",
       "564         565        Jameel Warney  DAL      46080.0\n",
       "565         566      Marcus Thornton  CLE      46080.0\n",
       "566         567      DeAndre Liggins  ATL      26773.0\n",
       "567         568         Axel Toupane  NOP      25000.0\n",
       "568         569           Quinn Cook  NOP      25000.0\n",
       "569         570        Chris Johnson  HOU      25000.0\n",
       "570         571           Beno Udrih  DET      25000.0\n",
       "571         572        Joel Bolomboy  MIL      22248.0\n",
       "572         573         Jarell Eddie  CHI      17224.0"
      ]
     },
     "execution_count": 16,
     "metadata": {},
     "output_type": "execute_result"
    }
   ],
   "source": [
    "#les 10 dernieres lignes\n",
    "df.tail(10)"
   ]
  },
  {
   "cell_type": "markdown",
   "id": "5a896e63",
   "metadata": {},
   "source": [
    "##  verification des valeurs manquantes"
   ]
  },
  {
   "cell_type": "code",
   "execution_count": 18,
   "id": "0a558bbe",
   "metadata": {},
   "outputs": [
    {
     "data": {
      "text/plain": [
       "Unnamed: 0     0\n",
       "Player         0\n",
       "Tm             0\n",
       "season17_18    0\n",
       "dtype: int64"
      ]
     },
     "execution_count": 18,
     "metadata": {},
     "output_type": "execute_result"
    }
   ],
   "source": [
    "#affiche la somme des valeurs manquantes par variable option1\n",
    "df.isna().sum()"
   ]
  },
  {
   "cell_type": "code",
   "execution_count": 19,
   "id": "455c2da1",
   "metadata": {},
   "outputs": [
    {
     "data": {
      "text/plain": [
       "Unnamed: 0     0\n",
       "Player         0\n",
       "Tm             0\n",
       "season17_18    0\n",
       "dtype: int64"
      ]
     },
     "execution_count": 19,
     "metadata": {},
     "output_type": "execute_result"
    }
   ],
   "source": [
    "#affiche la somme des valeurs manquantes par variable option2\n",
    "df.isnull().sum()"
   ]
  },
  {
   "cell_type": "markdown",
   "id": "c6974b36",
   "metadata": {},
   "source": [
    "Note : on peut remarquer que notre base de données ne contient pas de valeur manquante"
   ]
  },
  {
   "cell_type": "code",
   "execution_count": 13,
   "id": "206032a4",
   "metadata": {},
   "outputs": [
    {
     "data": {
      "text/plain": [
       "(573, 4)"
      ]
     },
     "execution_count": 13,
     "metadata": {},
     "output_type": "execute_result"
    }
   ],
   "source": [
    "# Vérifier la taille de notre base de données\n",
    "df.shape"
   ]
  },
  {
   "cell_type": "markdown",
   "id": "a53c230f",
   "metadata": {},
   "source": [
    "##  Verifications des outliers"
   ]
  },
  {
   "cell_type": "markdown",
   "id": "1cc91bb7",
   "metadata": {},
   "source": [
    "Nous avons deux techniques pour verifier les valeurs aberrantes : analytiques et visuelles"
   ]
  },
  {
   "cell_type": "markdown",
   "id": "01ed3583",
   "metadata": {},
   "source": [
    "### Techniques visuelles"
   ]
  },
  {
   "cell_type": "markdown",
   "id": "6d10a2fb",
   "metadata": {},
   "source": [
    "Nous allons utiliser la solution des Boxplot ou diagramme de moustache"
   ]
  },
  {
   "cell_type": "markdown",
   "id": "d0b6759d",
   "metadata": {},
   "source": [
    "#### Boxplot"
   ]
  },
  {
   "cell_type": "code",
   "execution_count": 22,
   "id": "c4251f32",
   "metadata": {},
   "outputs": [
    {
     "data": {
      "text/plain": [
       "<AxesSubplot:xlabel='season17_18'>"
      ]
     },
     "execution_count": 22,
     "metadata": {},
     "output_type": "execute_result"
    },
    {
     "data": {
      "image/png": "[encoded data removed]",
      "text/plain": [
       "<Figure size 432x288 with 1 Axes>"
      ]
     },
     "metadata": {
      "needs_background": "light"
     },
     "output_type": "display_data"
    }
   ],
   "source": [
    "sns.boxplot(x=df['season17_18'])"
   ]
  },
  {
   "cell_type": "markdown",
   "id": "0908e108",
   "metadata": {},
   "source": [
    "on constate des valeurs aberrantes en dehors de notre Boxplot ( on l'estime en general autours de 5%), il s'agit des valeurs au dessus de 1.7"
   ]
  },
  {
   "cell_type": "markdown",
   "id": "9a104db4",
   "metadata": {},
   "source": [
    "#### Comment detecter les valeurs aberrantes ?"
   ]
  },
  {
   "cell_type": "markdown",
   "id": "deff97b1",
   "metadata": {},
   "source": [
    "On va considerer une limite de 95% des données et au dela ce sera des valeurs aberrantes"
   ]
  },
  {
   "cell_type": "code",
   "execution_count": 23,
   "id": "82dd63df",
   "metadata": {},
   "outputs": [],
   "source": [
    "upper_lim = df['season17_18'].quantile(.95)"
   ]
  },
  {
   "cell_type": "code",
   "execution_count": 25,
   "id": "16ca22ee",
   "metadata": {},
   "outputs": [
    {
     "data": {
      "text/html": [
       "<div>\n",
       "<style scoped>\n",
       "    .dataframe tbody tr th:only-of-type {\n",
       "        vertical-align: middle;\n",
       "    }\n",
       "\n",
       "    .dataframe tbody tr th {\n",
       "        vertical-align: top;\n",
       "    }\n",
       "\n",
       "    .dataframe thead th {\n",
       "        text-align: right;\n",
       "    }\n",
       "</style>\n",
       "<table border=\"1\" class=\"dataframe\">\n",
       "  <thead>\n",
       "    <tr style=\"text-align: right;\">\n",
       "      <th></th>\n",
       "      <th>Unnamed: 0</th>\n",
       "      <th>Player</th>\n",
       "      <th>Tm</th>\n",
       "      <th>season17_18</th>\n",
       "    </tr>\n",
       "  </thead>\n",
       "  <tbody>\n",
       "    <tr>\n",
       "      <th>0</th>\n",
       "      <td>1</td>\n",
       "      <td>Stephen Curry</td>\n",
       "      <td>GSW</td>\n",
       "      <td>34682550.0</td>\n",
       "    </tr>\n",
       "    <tr>\n",
       "      <th>1</th>\n",
       "      <td>2</td>\n",
       "      <td>LeBron James</td>\n",
       "      <td>CLE</td>\n",
       "      <td>33285709.0</td>\n",
       "    </tr>\n",
       "    <tr>\n",
       "      <th>2</th>\n",
       "      <td>3</td>\n",
       "      <td>Paul Millsap</td>\n",
       "      <td>DEN</td>\n",
       "      <td>31269231.0</td>\n",
       "    </tr>\n",
       "    <tr>\n",
       "      <th>3</th>\n",
       "      <td>4</td>\n",
       "      <td>Gordon Hayward</td>\n",
       "      <td>BOS</td>\n",
       "      <td>29727900.0</td>\n",
       "    </tr>\n",
       "    <tr>\n",
       "      <th>4</th>\n",
       "      <td>5</td>\n",
       "      <td>Blake Griffin</td>\n",
       "      <td>DET</td>\n",
       "      <td>29512900.0</td>\n",
       "    </tr>\n",
       "    <tr>\n",
       "      <th>5</th>\n",
       "      <td>6</td>\n",
       "      <td>Kyle Lowry</td>\n",
       "      <td>TOR</td>\n",
       "      <td>28703704.0</td>\n",
       "    </tr>\n",
       "    <tr>\n",
       "      <th>6</th>\n",
       "      <td>7</td>\n",
       "      <td>Russell Westbrook</td>\n",
       "      <td>OKC</td>\n",
       "      <td>28530608.0</td>\n",
       "    </tr>\n",
       "    <tr>\n",
       "      <th>7</th>\n",
       "      <td>8</td>\n",
       "      <td>Mike Conley</td>\n",
       "      <td>MEM</td>\n",
       "      <td>28530608.0</td>\n",
       "    </tr>\n",
       "    <tr>\n",
       "      <th>8</th>\n",
       "      <td>9</td>\n",
       "      <td>James Harden</td>\n",
       "      <td>HOU</td>\n",
       "      <td>28299399.0</td>\n",
       "    </tr>\n",
       "    <tr>\n",
       "      <th>9</th>\n",
       "      <td>10</td>\n",
       "      <td>DeMar DeRozan</td>\n",
       "      <td>TOR</td>\n",
       "      <td>27739975.0</td>\n",
       "    </tr>\n",
       "    <tr>\n",
       "      <th>10</th>\n",
       "      <td>11</td>\n",
       "      <td>Al Horford</td>\n",
       "      <td>BOS</td>\n",
       "      <td>27734405.0</td>\n",
       "    </tr>\n",
       "    <tr>\n",
       "      <th>11</th>\n",
       "      <td>12</td>\n",
       "      <td>Carmelo Anthony</td>\n",
       "      <td>OKC</td>\n",
       "      <td>26243760.0</td>\n",
       "    </tr>\n",
       "    <tr>\n",
       "      <th>12</th>\n",
       "      <td>13</td>\n",
       "      <td>Damian Lillard</td>\n",
       "      <td>POR</td>\n",
       "      <td>26153057.0</td>\n",
       "    </tr>\n",
       "    <tr>\n",
       "      <th>13</th>\n",
       "      <td>14</td>\n",
       "      <td>Jrue Holiday</td>\n",
       "      <td>NOP</td>\n",
       "      <td>25686667.0</td>\n",
       "    </tr>\n",
       "    <tr>\n",
       "      <th>14</th>\n",
       "      <td>15</td>\n",
       "      <td>Chris Bosh</td>\n",
       "      <td>MIA</td>\n",
       "      <td>25289390.0</td>\n",
       "    </tr>\n",
       "    <tr>\n",
       "      <th>15</th>\n",
       "      <td>16</td>\n",
       "      <td>Kevin Durant</td>\n",
       "      <td>GSW</td>\n",
       "      <td>25000000.0</td>\n",
       "    </tr>\n",
       "    <tr>\n",
       "      <th>16</th>\n",
       "      <td>17</td>\n",
       "      <td>Otto Porter</td>\n",
       "      <td>WAS</td>\n",
       "      <td>24773250.0</td>\n",
       "    </tr>\n",
       "    <tr>\n",
       "      <th>17</th>\n",
       "      <td>18</td>\n",
       "      <td>Chris Paul</td>\n",
       "      <td>HOU</td>\n",
       "      <td>24599495.0</td>\n",
       "    </tr>\n",
       "    <tr>\n",
       "      <th>18</th>\n",
       "      <td>19</td>\n",
       "      <td>C.J. McCollum</td>\n",
       "      <td>POR</td>\n",
       "      <td>23962573.0</td>\n",
       "    </tr>\n",
       "    <tr>\n",
       "      <th>19</th>\n",
       "      <td>20</td>\n",
       "      <td>Bradley Beal</td>\n",
       "      <td>WAS</td>\n",
       "      <td>23775506.0</td>\n",
       "    </tr>\n",
       "    <tr>\n",
       "      <th>20</th>\n",
       "      <td>21</td>\n",
       "      <td>Anthony Davis</td>\n",
       "      <td>NOP</td>\n",
       "      <td>23775506.0</td>\n",
       "    </tr>\n",
       "    <tr>\n",
       "      <th>21</th>\n",
       "      <td>22</td>\n",
       "      <td>Andre Drummond</td>\n",
       "      <td>DET</td>\n",
       "      <td>23775506.0</td>\n",
       "    </tr>\n",
       "    <tr>\n",
       "      <th>22</th>\n",
       "      <td>23</td>\n",
       "      <td>Hassan Whiteside</td>\n",
       "      <td>MIA</td>\n",
       "      <td>23775506.0</td>\n",
       "    </tr>\n",
       "    <tr>\n",
       "      <th>23</th>\n",
       "      <td>24</td>\n",
       "      <td>Dwight Howard</td>\n",
       "      <td>CHO</td>\n",
       "      <td>23500000.0</td>\n",
       "    </tr>\n",
       "    <tr>\n",
       "      <th>24</th>\n",
       "      <td>25</td>\n",
       "      <td>Chandler Parsons</td>\n",
       "      <td>MEM</td>\n",
       "      <td>23112004.0</td>\n",
       "    </tr>\n",
       "    <tr>\n",
       "      <th>25</th>\n",
       "      <td>26</td>\n",
       "      <td>Harrison Barnes</td>\n",
       "      <td>DAL</td>\n",
       "      <td>23112004.0</td>\n",
       "    </tr>\n",
       "    <tr>\n",
       "      <th>26</th>\n",
       "      <td>27</td>\n",
       "      <td>J.J. Redick</td>\n",
       "      <td>PHI</td>\n",
       "      <td>23000000.0</td>\n",
       "    </tr>\n",
       "  </tbody>\n",
       "</table>\n",
       "</div>"
      ],
      "text/plain": [
       "    Unnamed: 0             Player   Tm  season17_18\n",
       "0            1      Stephen Curry  GSW   34682550.0\n",
       "1            2       LeBron James  CLE   33285709.0\n",
       "2            3       Paul Millsap  DEN   31269231.0\n",
       "3            4     Gordon Hayward  BOS   29727900.0\n",
       "4            5      Blake Griffin  DET   29512900.0\n",
       "5            6         Kyle Lowry  TOR   28703704.0\n",
       "6            7  Russell Westbrook  OKC   28530608.0\n",
       "7            8        Mike Conley  MEM   28530608.0\n",
       "8            9       James Harden  HOU   28299399.0\n",
       "9           10      DeMar DeRozan  TOR   27739975.0\n",
       "10          11         Al Horford  BOS   27734405.0\n",
       "11          12    Carmelo Anthony  OKC   26243760.0\n",
       "12          13     Damian Lillard  POR   26153057.0\n",
       "13          14       Jrue Holiday  NOP   25686667.0\n",
       "14          15         Chris Bosh  MIA   25289390.0\n",
       "15          16       Kevin Durant  GSW   25000000.0\n",
       "16          17        Otto Porter  WAS   24773250.0\n",
       "17          18         Chris Paul  HOU   24599495.0\n",
       "18          19      C.J. McCollum  POR   23962573.0\n",
       "19          20       Bradley Beal  WAS   23775506.0\n",
       "20          21      Anthony Davis  NOP   23775506.0\n",
       "21          22     Andre Drummond  DET   23775506.0\n",
       "22          23   Hassan Whiteside  MIA   23775506.0\n",
       "23          24      Dwight Howard  CHO   23500000.0\n",
       "24          25   Chandler Parsons  MEM   23112004.0\n",
       "25          26    Harrison Barnes  DAL   23112004.0\n",
       "26          27        J.J. Redick  PHI   23000000.0"
      ]
     },
     "execution_count": 25,
     "metadata": {},
     "output_type": "execute_result"
    }
   ],
   "source": [
    "df_outliers = df[df['season17_18'] > upper_lim]\n",
    "df_outliers"
   ]
  },
  {
   "cell_type": "markdown",
   "id": "1c3773d2",
   "metadata": {},
   "source": [
    "### Techniques analytiques"
   ]
  },
  {
   "cell_type": "markdown",
   "id": "f3af77b3",
   "metadata": {},
   "source": [
    "Nous allons utiliser la methode z_score qui mesure la distance par rapport à la mmoyenne"
   ]
  },
  {
   "cell_type": "code",
   "execution_count": 29,
   "id": "4e27d93f",
   "metadata": {},
   "outputs": [],
   "source": [
    "outliers =[] #creer une liste qui contient les valeurs aberrantes\n",
    "\n",
    "def detect_outliers(data):\n",
    "    threshold=3 #valeur limite\n",
    "    mean=np.mean(data)\n",
    "    std=np.std(data)\n",
    "\n",
    "    for i in data:\n",
    "        z_score = (i-mean)/std\n",
    "        if np.abs(z_score)>threshold:\n",
    "            outliers.append(i)\n",
    "    return outliers"
   ]
  },
  {
   "cell_type": "code",
   "execution_count": 30,
   "id": "6d48c5e2",
   "metadata": {},
   "outputs": [
    {
     "data": {
      "text/plain": [
       "[34682550.0,\n",
       " 33285709.0,\n",
       " 31269231.0,\n",
       " 29727900.0,\n",
       " 29512900.0,\n",
       " 28703704.0,\n",
       " 28530608.0,\n",
       " 28530608.0,\n",
       " 28299399.0,\n",
       " 27739975.0,\n",
       " 27734405.0]"
      ]
     },
     "execution_count": 30,
     "metadata": {},
     "output_type": "execute_result"
    }
   ],
   "source": [
    "# Detecter les salaires considerés comme aberrants\n",
    "detect_outliers(df['season17_18'])"
   ]
  },
  {
   "cell_type": "code",
   "execution_count": null,
   "id": "7d4d8a3d",
   "metadata": {},
   "outputs": [],
   "source": []
  }
 ],
 "metadata": {
  "kernelspec": {
   "display_name": "Python 3 (ipykernel)",
   "language": "python",
   "name": "python3"
  },
  "language_info": {
   "codemirror_mode": {
    "name": "ipython",
    "version": 3
   },
   "file_extension": ".py",
   "mimetype": "text/x-python",
   "name": "python",
   "nbconvert_exporter": "python",
   "pygments_lexer": "ipython3",
   "version": "3.9.12"
  }
 },
 "nbformat": 4,
 "nbformat_minor": 5
}
